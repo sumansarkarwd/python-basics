{
 "cells": [
  {
   "cell_type": "code",
   "execution_count": 1,
   "metadata": {},
   "outputs": [
    {
     "name": "stdout",
     "output_type": "stream",
     "text": [
      "Hello, world!\n"
     ]
    }
   ],
   "source": [
    "# Hello World\n",
    "print(\"Hello, world!\")"
   ]
  },
  {
   "cell_type": "code",
   "execution_count": 4,
   "metadata": {},
   "outputs": [
    {
     "name": "stdout",
     "output_type": "stream",
     "text": [
      "My name is Suman Sarkar\n",
      "I am 26 year old\n",
      "I am 5.7ft tall\n"
     ]
    }
   ],
   "source": [
    "# Variables and data types\n",
    "# numbers (int and float same)\n",
    "age = \"26\"\n",
    "height = \"5.7\"\n",
    "name = \"Suman Sarkar\"\n",
    "\n",
    "print(\"My name is \" + name)\n",
    "print(\"I am \" + age + \" year old\")\n",
    "print(\"I am \" + height + \"ft tall\")"
   ]
  },
  {
   "cell_type": "code",
   "execution_count": 16,
   "metadata": {},
   "outputs": [
    {
     "name": "stdout",
     "output_type": "stream",
     "text": [
      "SUMAN SARKAR\n",
      "suman sarkar\n",
      "False\n",
      "True\n",
      "12\n",
      "S\n",
      "4\n",
      "Susmita Sarkar\n"
     ]
    }
   ],
   "source": [
    "# working with strings\n",
    "name = \"Suman Sarkar\"\n",
    "# convert to uppercase\n",
    "print(name.upper())\n",
    "# convert to lowercase\n",
    "print(name.lower())\n",
    "# check all characters are uppercase\n",
    "print(name.isupper())\n",
    "print(name.upper().isupper())\n",
    "# lentgh of string\n",
    "print(len(name))\n",
    "# print first char\n",
    "print(name[0])\n",
    "# get index of 'n' in name\n",
    "print(name.index('n'))\n",
    "# replace\n",
    "print(name.replace('Suman', 'Susmita'))"
   ]
  },
  {
   "cell_type": "code",
   "execution_count": 18,
   "metadata": {},
   "outputs": [
    {
     "name": "stdout",
     "output_type": "stream",
     "text": [
      "25\n",
      "My age is 25\n",
      "My age is 25\n"
     ]
    },
    {
     "ename": "TypeError",
     "evalue": "can only concatenate str (not \"int\") to str",
     "output_type": "error",
     "traceback": [
      "\u001b[0;31m---------------------------------------------------------------------------\u001b[0m",
      "\u001b[0;31mTypeError\u001b[0m                                 Traceback (most recent call last)",
      "\u001b[0;32m<ipython-input-18-d058504af2d0>\u001b[0m in \u001b[0;36m<module>\u001b[0;34m\u001b[0m\n\u001b[1;32m      4\u001b[0m \u001b[0mprint\u001b[0m\u001b[0;34m(\u001b[0m\u001b[0;34m\"My age is \"\u001b[0m \u001b[0;34m+\u001b[0m \u001b[0mstr\u001b[0m\u001b[0;34m(\u001b[0m\u001b[0mmyAge\u001b[0m\u001b[0;34m)\u001b[0m\u001b[0;34m)\u001b[0m\u001b[0;34m\u001b[0m\u001b[0;34m\u001b[0m\u001b[0m\n\u001b[1;32m      5\u001b[0m \u001b[0mprint\u001b[0m\u001b[0;34m(\u001b[0m\u001b[0;34m\"My age is {0}\"\u001b[0m\u001b[0;34m.\u001b[0m\u001b[0mformat\u001b[0m\u001b[0;34m(\u001b[0m\u001b[0mmyAge\u001b[0m\u001b[0;34m)\u001b[0m\u001b[0;34m)\u001b[0m\u001b[0;34m\u001b[0m\u001b[0;34m\u001b[0m\u001b[0m\n\u001b[0;32m----> 6\u001b[0;31m \u001b[0mprint\u001b[0m\u001b[0;34m(\u001b[0m\u001b[0;34m\"My age is \"\u001b[0m \u001b[0;34m+\u001b[0m \u001b[0mmyAge\u001b[0m\u001b[0;34m)\u001b[0m\u001b[0;34m\u001b[0m\u001b[0;34m\u001b[0m\u001b[0m\n\u001b[0m",
      "\u001b[0;31mTypeError\u001b[0m: can only concatenate str (not \"int\") to str"
     ]
    }
   ],
   "source": [
    "# working with numbers\n",
    "myAge = 25\n",
    "print(myAge)\n",
    "print(\"My age is \" + str(myAge)) # myAge has to be converted to string in order to concat with a string type\n",
    "print(\"My age is {0}\".format(myAge))\n",
    "# print(\"My age is \" + myAge) # invalid - numbers cannot be concatinated with strings"
   ]
  },
  {
   "cell_type": "code",
   "execution_count": 1,
   "metadata": {},
   "outputs": [
    {
     "name": "stdout",
     "output_type": "stream",
     "text": [
      "Hello, Suman\n"
     ]
    }
   ],
   "source": [
    "# working with user input\n",
    "name = input(\"Enter your name: \")\n",
    "print(\"Hello, \" + name)"
   ]
  },
  {
   "cell_type": "code",
   "execution_count": 11,
   "metadata": {},
   "outputs": [
    {
     "name": "stdout",
     "output_type": "stream",
     "text": [
      "['Susmita', 'Aru', 'Saibal', 'Bua']\n",
      "['Susmita', 2, True]\n",
      "Susmita\n",
      "Bua\n",
      "['Aru', 'Saibal']\n",
      "['Aru', 'Saibal', 'Bua']\n",
      "['Susmita', 'Aru']\n",
      "['Aru', 'Saibal']\n",
      "['Susmita', 'Guddu', 'Saibal', 'Bua']\n",
      "['Susmita', 'Guddu', 'Saibal', 'Bua', 'Pradipta']\n",
      "['Susmita', 'Guddu', 'Saibal', 'Bua']\n",
      "['Susmita', 'Guddu', 'Saibal', 'Bua']\n",
      "['Susmita', 'Saibal', 'Bua']\n",
      "['Susmita', 'Saibal', 'Bua', 'AG', 'Sohan']\n",
      "['Susmita', 'Saibal', 'Bua', 'AG', 'Arvind', 'Sohan']\n",
      "['Susmita', 'Saibal', 'AG', 'Arvind', 'Sohan']\n",
      "0\n",
      "['AG', 'Arvind', 'Saibal', 'Sohan', 'Susmita']\n",
      "['Susmita', 'Sohan', 'Saibal', 'Arvind', 'AG']\n",
      "['Susmita', 'Sohan', 'Saibal', 'Arvind', 'AG']\n"
     ]
    }
   ],
   "source": [
    "# List\n",
    "friends = [\"Susmita\", \"Aru\", \"Saibal\", \"Bua\"] # list of strings\n",
    "print(friends)\n",
    "randomList = [\"Susmita\", 2, True] # list of any type\n",
    "print(randomList)\n",
    "\n",
    "# get first friend\n",
    "print(friends[0])\n",
    "# get last friend\n",
    "print(friends[-1])\n",
    "# get friends from 2nd to 3rd\n",
    "print(friends[1:3])\n",
    "# get friends from 2nd to end\n",
    "print(friends[1:])\n",
    "# get friends from start to 2nd\n",
    "print(friends[:2])\n",
    "# get friends from 1 to 2nd last\n",
    "print(friends[1:-1])\n",
    "# set 2nd friend to \"Guddu\"\n",
    "friends[1] = \"Guddu\"\n",
    "print(friends)\n",
    "# add new friend at the end\n",
    "friends.append(\"Pradipta\") # add to end\n",
    "print(friends)\n",
    "# remove last friend\n",
    "friends.pop() # remove last element\n",
    "print(friends)\n",
    "# remove 2nd last friend\n",
    "print(friends)\n",
    "friends.pop(1)\n",
    "print(friends)\n",
    "\n",
    "# merge 2 list\n",
    "officeFriends = [\"AG\", \"Sohan\"]\n",
    "friends.extend(officeFriends)\n",
    "print(friends)\n",
    "\n",
    "# insert at index 4\n",
    "friends.insert(4, \"Arvind\")\n",
    "print(friends)\n",
    "\n",
    "# remove Bua\n",
    "friends.remove(\"Bua\")\n",
    "print(friends)\n",
    "\n",
    "# get index of Susmita\n",
    "print(friends.index(\"Susmita\"))\n",
    "\n",
    "# sort list\n",
    "friends.sort()\n",
    "print(friends)\n",
    "\n",
    "# reverse list\n",
    "friends.reverse()\n",
    "print(friends)\n",
    "\n",
    "# copy list\n",
    "friends2 = friends.copy()\n",
    "print(friends2)"
   ]
  },
  {
   "cell_type": "code",
   "execution_count": 33,
   "metadata": {},
   "outputs": [
    {
     "name": "stdout",
     "output_type": "stream",
     "text": [
      "('Susmita', 'Aru', 'Saibal', 'Bua')\n",
      "Error: Tuple is immutable\n",
      "<class 'list'>\n",
      "bookList ['Book 1', 'Book 2', 'Book 3']\n",
      "<class 'tuple'>\n",
      "tupleBooks:  ('Book 1', 'Book 2', 'Book 3')\n",
      "Type of songs <class 'str'>\n",
      "Type of songs <class 'tuple'>\n",
      "Book 1\n",
      "Book 2\n",
      "Book 3\n",
      "Book 2 is in the list\n",
      "5\n",
      "2\n",
      "3\n",
      "n is not in the tuple\n",
      "type of listBooks <class 'list'>\n",
      "['Book 1', 'Book 2', 'Book 3']\n",
      "a (1, 2, 3, 4, 5, 6, 7, 8, 9, 10)\n",
      "a[1:3] (2, 3)\n",
      "a[:3] (1, 2, 3)\n",
      "a[2:] (3, 4, 5, 6, 7, 8, 9, 10)\n",
      "a[:] (1, 2, 3, 4, 5, 6, 7, 8, 9, 10)\n",
      "a[-1] 10\n",
      "a[0::2] (1, 3, 5, 7, 9)\n",
      "a[0::3] (1, 4, 7, 10)\n",
      "a[::-1] (10, 9, 8, 7, 6, 5, 4, 3, 2, 1)\n",
      "book1 Book 1\n",
      "book2 Book 2\n",
      "Error: TupleBooks has more than 3 elements\n",
      "i1 1\n",
      "i2 [2, 3, 4, 5, 6, 7, 8, 9]\n",
      "i3 10\n"
     ]
    }
   ],
   "source": [
    "# tuples\n",
    "# immutable\n",
    "tupleFriends = (\"Susmita\", \"Aru\", \"Saibal\", \"Bua\")\n",
    "print(tupleFriends)\n",
    "try:\n",
    "    tupleFriends[1] = \"Guddu\" # invalid - tuple is immutable\n",
    "except TypeError:\n",
    "    print(\"Error: Tuple is immutable\")\n",
    "\n",
    "# tuple from a list\n",
    "bookList = [\"Book 1\", \"Book 2\", \"Book 3\"]\n",
    "tupleBooks = tuple(bookList)\n",
    "print(type(bookList))\n",
    "print(\"bookList\", bookList)\n",
    "print(type(tupleBooks))\n",
    "print(\"tupleBooks: \", tupleBooks)\n",
    "\n",
    "songs = (\"Song 1\") # single element tuple without comma is considered as string\n",
    "print(\"Type of songs\", type(songs))\n",
    "songs = (\"Song 1\",) # put a (,)comma to treat it as a tuple\n",
    "print(\"Type of songs\", type(songs))\n",
    "\n",
    "# iterate over tuple\n",
    "for book in tupleBooks:\n",
    "    print(book)\n",
    "\n",
    "# check if value in tuple\n",
    "if \"Book 2\" in tupleBooks:\n",
    "    print(\"Book 2 is in the list\")\n",
    "else:\n",
    "    print(\"Book 2 is not in the list\")\n",
    "\n",
    "charsTuple = ('a', 'p', 'p', 'l', 'e')\n",
    "print(len(charsTuple))\n",
    "print(charsTuple.count('p'))\n",
    "print(charsTuple.index('l'))\n",
    "try:\n",
    "    print(charsTuple.index('n'))\n",
    "except ValueError:\n",
    "    print(\"n is not in the tuple\")\n",
    "\n",
    "# tuple to list\n",
    "listBooks = list(tupleBooks)\n",
    "print(\"type of listBooks\", type(listBooks))\n",
    "print(listBooks)\n",
    "\n",
    "# slicing\n",
    "a = (1, 2, 3, 4, 5, 6, 7, 8, 9, 10)\n",
    "print(\"a\", a)\n",
    "print(\"a[1:3]\", a[1:3])\n",
    "print(\"a[:3]\", a[:3])\n",
    "print(\"a[2:]\", a[2:])\n",
    "print(\"a[:]\", a[:])\n",
    "print(\"a[-1]\", a[-1])\n",
    "# stepping by 2\n",
    "print(\"a[0::2]\", a[0::2])\n",
    "# stepping by 3\n",
    "print(\"a[0::3]\", a[0::3])\n",
    "\n",
    "# stepping by -1, reverses the tuple\n",
    "print(\"a[::-1]\", a[::-1])\n",
    "\n",
    "# unpacking tuple tupleBooks, number of variable must be maximum the length of tuple tupleBooks\n",
    "book1, book2, book3 = tupleBooks\n",
    "print(\"book1\", book1)\n",
    "print(\"book2\", book2)\n",
    "\n",
    "try:\n",
    "    book1, book2, book3, book4 = tupleBooks\n",
    "except ValueError:\n",
    "    print(\"Error: TupleBooks has more than \" + str(len(tupleBooks)) +\" elements\")\n",
    "\n",
    "# unpack middle values of tuple to a variable\n",
    "i1, *i2, i3 = (1, 2, 3, 4, 5, 6, 7, 8, 9, 10)\n",
    "print(\"i1\", i1)\n",
    "print(\"i2\", i2)\n",
    "print(\"i3\", i3)\n"
   ]
  },
  {
   "cell_type": "code",
   "execution_count": 36,
   "metadata": {},
   "outputs": [
    {
     "name": "stdout",
     "output_type": "stream",
     "text": [
      "{'Jan': 'January', 'Feb': 'February', 'Mar': 'March', 'Apr': 'April', 'May': 'May', 'Jun': 'June', 'Jul': 'July', 'Aug': 'August', 'Sep': 'September', 'Oct': 'October', 'Nov': 'November', 'Dec': 'December'}\n",
      "January\n",
      "January Invalid month\n"
     ]
    }
   ],
   "source": [
    "# dictionary\n",
    "# key-value pairs\n",
    "# key must be immutable\n",
    "# value can be any type\n",
    "# key can be any type\n",
    "month = {\n",
    "    \"Jan\": \"January\",\n",
    "    \"Feb\": \"February\",\n",
    "    \"Mar\": \"March\",\n",
    "    \"Apr\": \"April\",\n",
    "    \"May\": \"May\",\n",
    "    \"Jun\": \"June\",\n",
    "    \"Jul\": \"July\",\n",
    "    \"Aug\": \"August\",\n",
    "    \"Sep\": \"September\",\n",
    "    \"Oct\": \"October\",\n",
    "    \"Nov\": \"November\",\n",
    "    \"Dec\": \"December\"\n",
    "}\n",
    "print(month)\n",
    "print(month[\"Jan\"])\n",
    "print(month.get(\"Jan\"), \"Invalid month\")"
   ]
  },
  {
   "cell_type": "code",
   "execution_count": 13,
   "metadata": {},
   "outputs": [
    {
     "name": "stdout",
     "output_type": "stream",
     "text": [
      "5\n"
     ]
    }
   ],
   "source": [
    "# functions\n",
    "def add(a, b):\n",
    "    return a + b\n",
    "print(add(2, 3))"
   ]
  },
  {
   "cell_type": "code",
   "execution_count": 23,
   "metadata": {},
   "outputs": [
    {
     "name": "stdout",
     "output_type": "stream",
     "text": [
      "Hi Kid\n",
      "Persona wanna hangout and wanna be friends\n",
      "Persona is not very tall\n"
     ]
    }
   ],
   "source": [
    "# control flow\n",
    "# if\n",
    "age = input(\"Enter your age: \")\n",
    "if int(age) < 18:\n",
    "    print(\"Hi Kid\")\n",
    "elif (int(age) >= 18) and (int(age) < 50):\n",
    "    print(\"Hi Adult\")\n",
    "else:\n",
    "    print(\"Hi old man\")\n",
    "\n",
    "hangout = input(\"Wanna hangout with me?\")\n",
    "beFriend = input(\"Wanna be my friend?\")\n",
    "\n",
    "if hangout == 'Y' and beFriend == 'Y':\n",
    "    print(\"Persona wanna hangout and wanna be friends\")\n",
    "elif hangout == 'Y' or beFriend == 'Y':\n",
    "    print(\"Persona wanna hangout or wanna be friends\")\n",
    "else:\n",
    "    print(\"Persona don't wanna hangout and don't wanna be friends\")\n",
    "\n",
    "veryTall = False\n",
    "if not(veryTall):\n",
    "    print(\"Persona is not very tall\")\n",
    "else:\n",
    "    print(\"Persona is very tall\")\n"
   ]
  },
  {
   "cell_type": "code",
   "execution_count": 27,
   "metadata": {},
   "outputs": [
    {
     "name": "stdout",
     "output_type": "stream",
     "text": [
      "Today is day 1\n",
      "Today is day 2\n",
      "Today is day 3\n",
      "Today is day 4\n"
     ]
    }
   ],
   "source": [
    "# control flow\n",
    "# while\n",
    "day = 1\n",
    "while day <= 4:\n",
    "    print(\"Today is day \" + str(day))\n",
    "    day += 1"
   ]
  },
  {
   "cell_type": "code",
   "execution_count": 31,
   "metadata": {},
   "outputs": [
    {
     "name": "stdout",
     "output_type": "stream",
     "text": [
      "0\n",
      "1\n",
      "2\n",
      "3\n",
      "10\n",
      "11\n",
      "12\n",
      "13\n",
      "S\n",
      "u\n",
      "m\n",
      "a\n",
      "n\n",
      "Susmita\n",
      "Aru\n",
      "Saibal\n",
      "Bua\n"
     ]
    }
   ],
   "source": [
    "# control flow\n",
    "# for loops\n",
    "for i in range(4):\n",
    "    print(str(i))\n",
    "\n",
    "for i in range(10, 14):\n",
    "    print(str(i))\n",
    "\n",
    "name = \"Suman\"\n",
    "for char in name:\n",
    "    print(char)\n",
    "\n",
    "friends = ['Susmita', 'Aru', 'Saibal', 'Bua']\n",
    "for f in friends:\n",
    "    print(f)"
   ]
  },
  {
   "cell_type": "code",
   "execution_count": 35,
   "metadata": {},
   "outputs": [
    {
     "name": "stdout",
     "output_type": "stream",
     "text": [
      "[['Susmita', 'Aru'], ['Saibal', 'Bua']]\n",
      "Team: 1\n",
      "Players:\n",
      "Susmita\n",
      "Aru\n",
      "Team: 2\n",
      "Players:\n",
      "Saibal\n",
      "Bua\n"
     ]
    }
   ],
   "source": [
    "# 2d list\n",
    "# 2d list is a list of lists\n",
    "teams = [\n",
    "    [\"Susmita\", \"Aru\"],\n",
    "    [\"Saibal\", \"Bua\"]\n",
    "]\n",
    "print(teams)\n",
    "for i in range(len(teams)):\n",
    "    print(\"Team: \" + str(i+1))\n",
    "    print(\"Players:\")\n",
    "    for j in range(len(teams[i])):\n",
    "        print(teams[i][j])"
   ]
  },
  {
   "cell_type": "code",
   "execution_count": 40,
   "metadata": {},
   "outputs": [
    {
     "name": "stdout",
     "output_type": "stream",
     "text": [
      "Invalid age\n",
      "invalid literal for int() with base 10: 'e'\n"
     ]
    }
   ],
   "source": [
    "# try and except\n",
    "your_age = input(\"Enter your age: \")\n",
    "wife_age = input(\"Enter your wife's age: \")\n",
    "\n",
    "try:\n",
    "    ratio = int(your_age) / int(wife_age)\n",
    "    print(\"Your age ratio is \" + str(ratio))\n",
    "except ZeroDivisionError:\n",
    "    print(\"Your wife's age cannot be 0\")\n",
    "except ValueError as err:\n",
    "    print(\"Invalid age\")\n",
    "    print(err)"
   ]
  },
  {
   "cell_type": "code",
   "execution_count": 6,
   "metadata": {},
   "outputs": [
    {
     "name": "stdout",
     "output_type": "stream",
     "text": [
      "Suman\n",
      "25\n",
      "Hello, my name is Suman\n",
      "Hello, my name is Susmita\n",
      "I am studying CSE\n"
     ]
    }
   ],
   "source": [
    "# classes\n",
    "class Student:\n",
    "    def __init__(self, name, age):\n",
    "        self.name = name\n",
    "        self.age = age\n",
    "    def sayHi(self):\n",
    "        print(\"Hello, my name is \" + self.name)\n",
    "student1 = Student(\"Suman\", 25)\n",
    "print(student1.name)\n",
    "print(student1.age)\n",
    "\n",
    "student1.sayHi()\n",
    "\n",
    "# inheritance\n",
    "class BtechStudent(Student):\n",
    "    def __init__(self, name, age, branch):\n",
    "        super().__init__(name, age)\n",
    "        self.branch = branch\n",
    "    def study(self):\n",
    "        print(\"I am studying \" + self.branch)\n",
    "btechStudent1 = BtechStudent(\"Susmita\", 25, \"CSE\")\n",
    "btechStudent1.sayHi()\n",
    "btechStudent1.study()\n"
   ]
  }
 ],
 "metadata": {
  "interpreter": {
   "hash": "43669e2a08eb5d7be29b4ea89874e7b3566b05867b57b4b0bf25270dcf19cf54"
  },
  "kernelspec": {
   "display_name": "Python 3.8.8 64-bit ('base': conda)",
   "name": "python3"
  },
  "language_info": {
   "codemirror_mode": {
    "name": "ipython",
    "version": 3
   },
   "file_extension": ".py",
   "mimetype": "text/x-python",
   "name": "python",
   "nbconvert_exporter": "python",
   "pygments_lexer": "ipython3",
   "version": "3.8.8"
  },
  "orig_nbformat": 4
 },
 "nbformat": 4,
 "nbformat_minor": 2
}
